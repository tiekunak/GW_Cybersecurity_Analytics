{
  "nbformat": 4,
  "nbformat_minor": 0,
  "metadata": {
    "colab": {
      "provenance": []
    },
    "kernelspec": {
      "name": "python3",
      "display_name": "Python 3"
    },
    "language_info": {
      "name": "python"
    }
  },
  "cells": [
    {
      "cell_type": "markdown",
      "source": [
        "# 1. Accept input from a user, and with the input as an argument, create a function that:\n",
        "- Creates a random 32-byte salt value (remember to use a cryptographically secure random number generator.\n",
        "- Hash the input from the user with the salted value with SHA-256.\n",
        "- Store the value and the salt in a file.\n",
        "- Print both values.\n"
      ],
      "metadata": {
        "id": "I5a4EzfPDLH8"
      }
    },
    {
      "cell_type": "markdown",
      "source": [
        "#### Discuss why a salted hash is important when storing sensitive data such as passwords.  Explore a python library for Zero Knowledge Proofs and propose how this might improve authentication.  (Cite sources)\n",
        "- Ans: A salted hash is a critical component for storing sensitive data like passwords. It involves adding a unique random string (\"salt\") to each password before hashing. The exceptional salt plays a pivotal role in preventing precomputed tables (like rainbow tables), making it significantly harder for attackers to crack passwords, even if they have access to a database of hashed passwords. The unique salt ensures that malicious actors cannot quickly identify the original password by comparing hashes with a known list of password combinations, thereby enhancing the robustness of the security measure (Hughes, 2022).\n",
        "\n",
        "- Zero-Knowledge Swiss Knife (zksk-fork 0.0.31): Python library for prototyping composable zero-knowledge proofs in the discrete-log setting.\n",
        "- Traditional password systems send passwords or hashed passwords to the server for verification, which can be vulnerable to interception or brute-force attacks. ZKPs, a reliable method, enable password verification without exposing the password to potential interception (Makhene, 2024).\n",
        "- ZKPs are used in cryptographic protocols to ensure secure communication and data integrity, such as in blockchain technologies and secure multiparty computations, a method that allows multiple parties to jointly compute a function over their inputs while keeping those inputs private (Makhene, 2024).\n",
        "\n",
        "- Reference:\n",
        "Hughes, A. (2022, March 1). Encryption vs. Hashing vs. salting - what's the difference? Encryption vs. Hashing vs. Salting - What's the Difference? | Ping Identity. https://www.pingidentity.com/en/resources/blog/post/encryption-vs-hashing-vs-salting.html#:~:text=revealing%20the%20original.-,What%20is%20Salting?,tables)%20to%20crack%20the%20hashes.\n",
        "\n",
        "  Makhene, T. (2024, June 18). How zero-knowledge authentication works. Paubox. https://www.paubox.com/blog/how-zero-knowledge-authentication-works#:~:text=For%20a%20proof%20to%20be,except%20with%20some%20small%20probability"
      ],
      "metadata": {
        "id": "bj3u7i5CxRQV"
      }
    },
    {
      "cell_type": "code",
      "source": [
        "!pip install scapy"
      ],
      "metadata": {
        "colab": {
          "base_uri": "https://localhost:8080/"
        },
        "id": "Axp3Pq4E8uOm",
        "outputId": "cf78fe82-46ef-4b2e-94bf-9e18d60a7cfe"
      },
      "execution_count": 1,
      "outputs": [
        {
          "output_type": "stream",
          "name": "stdout",
          "text": [
            "Requirement already satisfied: scapy in /usr/local/lib/python3.10/dist-packages (2.6.1)\n"
          ]
        }
      ]
    },
    {
      "cell_type": "code",
      "source": [
        "import os\n",
        "import hashlib\n",
        "\n",
        "def hash_and_store(user_input):\n",
        "  # Generate a random 32-byte salt\n",
        "  salt = os.urandom(32)\n",
        "\n",
        "  # Hash the input with the salt using SHA-256\n",
        "  hash_object = hashlib.sha256(user_input.encode() + salt)\n",
        "  hashed_value = hash_object.hexdigest()\n",
        "\n",
        "  # Store the value and the salt in a file\n",
        "  with open(\"hashed_data.txt\", \"w\") as f:\n",
        "      f.write(f\"Hashed Value: {hashed_value}\\n\")\n",
        "      f.write(f\"Salt: {salt.hex()}\\n\")\n",
        "  return hashed_value, salt.hex()\n",
        "\n",
        "if __name__ == \"__main__\":\n",
        "  user_input = str(input(\"Enter the value to hash: \"))\n",
        "  print(hash_and_store(user_input))\n"
      ],
      "metadata": {
        "colab": {
          "base_uri": "https://localhost:8080/"
        },
        "id": "5io0k5-g3JRy",
        "outputId": "9ad4fd30-b638-4314-9ce9-a36491089422"
      },
      "execution_count": 2,
      "outputs": [
        {
          "output_type": "stream",
          "name": "stdout",
          "text": [
            "Enter the value to hash: kjfhhlkjholuikyjghkljkj\n",
            "('f311943c2103957e7727f8375f5a73ee13aab42297b36eca874718ad57bd09ad', '13c2b9b9b05e4846365f605de79cb2b57bab2fcf7419f697e256f579556af16e')\n"
          ]
        }
      ]
    },
    {
      "cell_type": "markdown",
      "source": [
        "# 2. Name one AES encryption mode that requires an Initial Vector (IV) and explain why it is considered more secure than other modes.  Name one AES encryption mode that does not require an IV.  Answer in a markdown cell.  Use proper citations.\n",
        "\n",
        "- The AES encryption mode that requires an Initialization Vector (IV) and is considered more secure than others is Cipher Block Chaining (CBC); this is because the IV introduces randomness to the encryption process, preventing patterns from appearing in the ciphertext, making it harder for attackers to decrypt the data even if they know the encryption key (Awati, 2022). If an attacker knows a portion of the plaintext, they cannot easily use that information to decrypt the rest of the message because the IV disrupts any predictable patterns (Awati, 2022).\n",
        "- The AES encryption mode that does not require an Initialization Vector (IV) is the Electronic Codebook (ECB) (Awati, 2022).\n",
        "\n",
        "- Reference: Awati, R. (2022, October 4). What is Initialization Vector?. WhatIs. https://www.techtarget.com/whatis/definition/initialization-vector-IV#:~:text=IVs%20are%20implemented%20differently%20in,increases%20data%20security%20and%20integrity."
      ],
      "metadata": {
        "id": "Io3KikmEEc_v"
      }
    },
    {
      "cell_type": "markdown",
      "source": [
        "# 3. Using Scapy, write a Python script that forges a custom TCP SYN packet with the following specifications:\n",
        "- Source IP: 192.168.1.100\n",
        "- Destination IP: 10.0.0.1\n",
        "- Source Port: 4444\n",
        "- Destination Port: 80\n",
        "- Additional Flags: Urgent\n",
        "- Include a custom RAW payload: \"Hello, this is a forged packet!\"\n",
        "# The script should:\n",
        "- Display the forged packet details before sending.\n",
        "- Send the packet to the destination.\n",
        "- Use Scapy's sr1() method to capture and print the response if one is received.\n"
      ],
      "metadata": {
        "id": "oK8Jp4g0Chbn"
      }
    },
    {
      "cell_type": "markdown",
      "source": [
        "##### Explain how this kind of packet could be used in security testing. What are the ethical considerations of forging and sending custom packets?\n",
        "- A packet like this, is a tool in security testing that helps in, capturing network traffic to analyze its content, identifying potential vulnerabilities, and simulate malicious attacks. Its most crucial role, however, is in assessing a system's resilience against various threats, such as unauthorized access, data exfiltration, or malware injection. It acts as a 'window' into the network, enabling us to observe how data flows and pinpoint potential security weaknesses.\n",
        "- Using Scapy for forging and sending custom packet requires a strong code of ethics. Ensure you have proper authorization to conduct network reconnaissance activities and exercise caution when using techniques like ARP cache poisoning. Unauthorized scanning or attacks can be illegal and unethical, and can lead to serious consequences."
      ],
      "metadata": {
        "id": "qRu7O-o8EJw0"
      }
    },
    {
      "cell_type": "code",
      "source": [
        "from scapy.all import *\n",
        "\n",
        "sport = 4444\n",
        "dport = 80\n",
        "\n",
        "# SYN\n",
        "ip = IP(src='192.168.1.100', dst='10.0.0.1')\n",
        "SYN = TCP(sport=sport, dport=dport, flags= \"U\", seq=1000)\n",
        "packet = ip/SYN/\"Hello, this is a forged packet!\"\n",
        "packet.show()\n",
        "send(packet)\n",
        "\n",
        "# Send the packet and get the response\n",
        "response = sr1(packet, timeout=2)\n",
        "\n",
        "# Check if a response was received\n",
        "if response:\n",
        "    print(f\"Response received from {response.dst}:\")\n",
        "    response.show()\n",
        "else:\n",
        "    print(\"No response received.\")"
      ],
      "metadata": {
        "colab": {
          "base_uri": "https://localhost:8080/"
        },
        "id": "ROGLdR2x7-xn",
        "outputId": "17961a16-3eec-4ad6-d6aa-dc171196a812"
      },
      "execution_count": 3,
      "outputs": [
        {
          "output_type": "stream",
          "name": "stdout",
          "text": [
            "###[ IP ]###\n",
            "  version   = 4\n",
            "  ihl       = None\n",
            "  tos       = 0x0\n",
            "  len       = None\n",
            "  id        = 1\n",
            "  flags     = \n",
            "  frag      = 0\n",
            "  ttl       = 64\n",
            "  proto     = 6\n",
            "  chksum    = None\n",
            "  src       = 192.168.1.100\n",
            "  dst       = 10.0.0.1\n",
            "  \\options   \\\n",
            "###[ TCP ]###\n",
            "     sport     = 4444\n",
            "     dport     = 80\n",
            "     seq       = 1000\n",
            "     ack       = 0\n",
            "     dataofs   = None\n",
            "     reserved  = 0\n",
            "     flags     = U\n",
            "     window    = 8192\n",
            "     chksum    = None\n",
            "     urgptr    = 0\n",
            "     options   = []\n",
            "###[ Raw ]###\n",
            "        load      = b'Hello, this is a forged packet!'\n",
            "\n",
            "\n",
            "Sent 1 packets.\n",
            "\n",
            "Received 6 packets, got 0 answers, remaining 1 packets\n",
            "No response received.\n"
          ]
        }
      ]
    },
    {
      "cell_type": "markdown",
      "source": [
        "# 4. Using Beautiful Soup – scrape text from https://quotes.toscrape.com/.  Print the text to the screen.  This is good practice for building text datasets but be sure to check the web site's acceptable use policy before scraping a site."
      ],
      "metadata": {
        "id": "_i2yeVAv5tQT"
      }
    },
    {
      "cell_type": "code",
      "execution_count": 4,
      "metadata": {
        "colab": {
          "base_uri": "https://localhost:8080/"
        },
        "id": "AFOuMGT3N4I3",
        "outputId": "d743fa14-3b39-41b9-a340-f9ad0342606c"
      },
      "outputs": [
        {
          "output_type": "stream",
          "name": "stdout",
          "text": [
            "              author                                               text\n",
            "0    Albert Einstein  The world as we have created it is a process o...\n",
            "1       J.K. Rowling  It is our choices, Harry, that show what we tr...\n",
            "2    Albert Einstein  There are only two ways to live your life. One...\n",
            "3        Jane Austen  The person, be it gentleman or lady, who has n...\n",
            "4     Marilyn Monroe  Imperfection is beauty, madness is genius and ...\n",
            "5    Albert Einstein  Try not to become a man of success. Rather bec...\n",
            "6         André Gide  It is better to be hated for what you are than...\n",
            "7   Thomas A. Edison  I have not failed. I've just found 10,000 ways...\n",
            "8  Eleanor Roosevelt  A woman is like a tea bag; you never know how ...\n",
            "9       Steve Martin   A day without sunshine is like, you know, night.\n",
            "-----------------------------------------------------------------------\n",
            "               author                                               text\n",
            "199      J.K. Rowling  It takes a great deal of bravery to stand up t...\n",
            "200        Mark Twain  Good friends, good books, and a sleepy conscie...\n",
            "201  Ernest Hemingway             There is no friend as loyal as a book.\n",
            "202     George Carlin  The reason I talk to myself is because I’m the...\n",
            "203        Mark Twain  A lie can travel half way around the world whi...\n",
            "204      J.K. Rowling  The truth.\" Dumbledore sighed. \"It is a beauti...\n",
            "205        Mark Twain  Never tell the truth to people who are not wor...\n",
            "206      Steve Martin   A day without sunshine is like, you know, night.\n",
            "207   Albert Einstein  Life is like riding a bicycle. To keep your ba...\n",
            "208   Stephenie Meyer                   He's like a drug for you, Bella.\n"
          ]
        }
      ],
      "source": [
        "import pandas as pd\n",
        "import requests\n",
        "from bs4 import BeautifulSoup\n",
        "from urllib.parse import urljoin, urlparse\n",
        "\n",
        "\n",
        "# Function to scrape a webpage and extract all links\n",
        "def scrape_page(url, level=1, max_depth=2):\n",
        "  if level > max_depth:\n",
        "      return\n",
        "\n",
        "  # Send an HTTP GET request to the URL\n",
        "  response = requests.get(url)\n",
        "\n",
        "  if response.status_code == 200:\n",
        "      # Parse the HTML content of the page\n",
        "      soup = BeautifulSoup(response.text, \"html.parser\")\n",
        "\n",
        "      #print(f\"Scraping {url} (Level {level})\")\n",
        "\n",
        "      # Find all <a> tags (hyperlinks) in the page\n",
        "      links = soup.find_all(\"a\")\n",
        "\n",
        "      all_links = []\n",
        "\n",
        "      # Extract and process each link\n",
        "      for link in links:\n",
        "          href = link.get(\"href\")\n",
        "          if href:\n",
        "              # Resolve relative URLs to absolute URLs\n",
        "              full_url = urljoin(url, href)\n",
        "\n",
        "              # Only follow links that are part of the same domain (to avoid external links)\n",
        "              if is_same_domain(url, full_url):\n",
        "                  all_links.append(full_url)\n",
        "                  #print(f\"  Found link: {full_url}\")\n",
        "\n",
        "                  # Recursively scrape the next level\n",
        "                  scrape_page(full_url, level + 1, max_depth)\n",
        "  else:\n",
        "      print(f\"Failed to retrieve {url} (Status code: {response.status_code})\")\n",
        "  return all_links\n",
        "\n",
        "\n",
        "# Function to check if two URLs belong to the same domain\n",
        "def is_same_domain(base_url, target_url):\n",
        "    base_domain = urlparse(base_url).netloc\n",
        "    target_domain = urlparse(target_url).netloc\n",
        "    return base_domain == target_domain\n",
        "\n",
        "\n",
        "# Get data from links\n",
        "def get_data(links):\n",
        "  txt = []\n",
        "  auth = []\n",
        "\n",
        "  for url in links:\n",
        "    # Send an HTTP GET request to the URL\n",
        "    response = requests.get(url)\n",
        "\n",
        "    if response.status_code == 200:\n",
        "        # Parse the HTML content of the page\n",
        "        soup = BeautifulSoup(response.text, \"html.parser\")\n",
        "\n",
        "        # Find all <span> and <small> tags (hyperlinks) in the page\n",
        "        texts = soup.find_all(\"span\", \"text\")\n",
        "        authors = soup.find_all(\"small\", \"author\")\n",
        "\n",
        "        # Extract and process each link\n",
        "        for author in authors:\n",
        "          #data[\"author\"]= author.get_text()\n",
        "          auth.append(author.get_text())\n",
        "          #print(author.get_text())\n",
        "        for text in texts:\n",
        "          #data[\"text\"]= text.get_text()\n",
        "          txt.append(text.get_text().strip('“”'))\n",
        "          #print(text.get_text().strip('“”'))\n",
        "\n",
        "  return auth, txt\n",
        "\n",
        "\n",
        "# Get the dataframe\n",
        "def get_dataframes(auth, txt):\n",
        "  data = {\"author\": auth, \"text\": txt}\n",
        "  df = pd.DataFrame(data)\n",
        "  return df\n",
        "\n",
        "\n",
        "if __name__ == \"__main__\":\n",
        "  # Starting URL to begin scraping from\n",
        "  start_url = \"https://quotes.toscrape.com/\"  # Replace with the URL you want to start scraping from\n",
        "\n",
        "  # Start the scraping process\n",
        "  links = scrape_page(start_url, level=1, max_depth=2)\n",
        "\n",
        "  # Get the data from the links\n",
        "  author = get_data(links)[0]\n",
        "  text = get_data(links)[1]\n",
        "\n",
        "  # Get the dataframe\n",
        "  df = get_dataframes(author, text)\n",
        "  print(df.head(10))\n",
        "  print(\"-----------------------------------------------------------------------\")\n",
        "  print(df.tail(10))"
      ]
    }
  ]
}