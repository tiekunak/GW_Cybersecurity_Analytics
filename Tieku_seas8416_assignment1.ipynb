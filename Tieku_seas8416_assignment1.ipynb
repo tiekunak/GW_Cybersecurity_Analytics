{
  "nbformat": 4,
  "nbformat_minor": 0,
  "metadata": {
    "colab": {
      "provenance": []
    },
    "kernelspec": {
      "name": "python3",
      "display_name": "Python 3"
    },
    "language_info": {
      "name": "python"
    }
  },
  "cells": [
    {
      "cell_type": "markdown",
      "source": [
        "# Question 1-4\n",
        "1. Explore various development environments (from class or others you may find). Select one (or two) you will be using in the course and provide feedback on your experience setting it up and getting started.  What are some pros and cons of the environment (1 paragraph)? (12 pts)\n",
        "- There are a number of developmental environments including Anaconda, Pycharm, VS code, SageMaker Notebook Instance (AWS), lambda functions (AWS), Data Bricks, Google collab, and others. Even though I can access all these environments, I will use Google Colab and Anaconda. Setting up Google Colab is not stressful, and managing Python environments is easy since each open window creates a new session or Python environment. Another advantage is the AI assistance when developing code. Fixing bugs and errors is easy, with the AI Assistant playing a pivotal role in explaining errors and bugs and suggesting codes to fix them. One disadvantage has to do with script execution. It does not support script execution. When dealing with big data, computing resources can be scaled up but at a fee compared to Anaconda, which uses local machine computing power.\n",
        "2. Visit pypi.org and enter numpy into the 'Search Projects' text box. (follow version 2.1.3) Explore how to get to the library documentation. Provide a summary of the purpose of the library (2-3 sentences). (12 pts)\n",
        "- NumPy is the fundamental package for scientific computing in Python handling numbers. It is a Python library that provides a multidimensional array object, various derived objects (such as masked arrays and matrices), and an assortment of routines for fast operations on arrays, including mathematical, logical, shape manipulation, sorting, selecting, I/O, discrete Fourier transforms, introductory linear algebra, basic statistical operations, random simulation and much more.\n",
        "3. Cloud environments are valuable due to their flexibility, scalability, and cost-effectiveness. Browse the web or use an AI interface to find a Python library to work with AWS. Provide an overview of 1 function in the library. (11 pts)\n",
        "- The Python library that works with AWS is boto3. Clients provide a low-level interface to AWS, whose methods map close to 1:1 with service APIs. Clients and resource calls support all service operations. For instance, we use boto3.client(\"s3\") to call the s3 resource to access s3 buckets, upload a file to a specific bucket, list buckets names, download a file from a specific bucket and others. Boto3.client() help establish a connection to AWS resources with an API key or token.\n",
        "4. Research Python 3.13 on https://python.org and list 2 'Removals and new deprecations' (10 pts)\n",
        "- ## Removals:\n",
        "- Remove the ability to use Path objects as context managers. This functionality was deprecated and has had no effect since Python 3.9. (Contributed by Barney Gale in gh-83863.)\n",
        "- Remove the undocumented, deprecated, and broken re.template() function and re.TEMPLATE / re.T flag. (Contributed by Serhiy Storchaka and Nikita Sobolev in gh-105687.)\n",
        "\n",
        "- ## Deprecations:\n",
        "- Deprecate the undocumented glob0() and glob1() functions. Use glob() and pass a path-like object specifying the root directory to the root_dir parameter instead. (Contributed by Barney Gale in gh-117337.)\n",
        "- Deprecate the non-standard and undocumented Decimal format specifier 'N', which is only supported in the decimal module's C implementation. (Contributed by Serhiy Storchaka in gh-89902.)\n",
        "\n",
        "## Reference:\n",
        "- Kashosi, A., & Nazarevych, T. (2021). Heart rate variability analysis toolkit - for further analysis of human stress. https://core.ac.uk/download/486569234.pdf\n",
        "- Kashosi, A., & Nazarevych, T. (2021). Heart rate variability analysis toolkit - for further analysis of human stress. https://core.ac.uk/download/486569234.pdf\n",
        "- Boto3 - Brian Pfeil. https://brianpfeil.com/post/boto3/\n",
        "- PEP on path module for standard library - Post.Byes. https://bytes.com/topic/python/answers/113725-pep-path-module-standard-library\n"
      ],
      "metadata": {
        "id": "8LDt8ULuBo1v"
      }
    },
    {
      "cell_type": "code",
      "execution_count": null,
      "metadata": {
        "id": "x7-is9K-7Bi7"
      },
      "outputs": [],
      "source": [
        "# Q5 Importing necessary libraries\n",
        "import jupyter_core     #51\n",
        "import sys              #5b"
      ]
    },
    {
      "cell_type": "code",
      "source": [
        "# Printing out library versions\n",
        "print(jupyter_core.__version__) #5c\n",
        "print(sys.version)              #5d"
      ],
      "metadata": {
        "colab": {
          "base_uri": "https://localhost:8080/"
        },
        "id": "Z4HpfLo67NH5",
        "outputId": "eb651b39-00b5-4d80-9381-995837294d75"
      },
      "execution_count": null,
      "outputs": [
        {
          "output_type": "stream",
          "name": "stdout",
          "text": [
            "5.7.2\n",
            "3.10.12 (main, Sep 11 2024, 15:47:36) [GCC 11.4.0]\n"
          ]
        }
      ]
    },
    {
      "cell_type": "code",
      "source": [
        "# Q6 Changing a string to caps using the upper function\n",
        "string1 = \"Hello\"\n",
        "string2 = string1.upper()\n",
        "print(string1)\n",
        "print(\"--------\")\n",
        "print(string2)"
      ],
      "metadata": {
        "colab": {
          "base_uri": "https://localhost:8080/"
        },
        "id": "KsOdKjRg7sy9",
        "outputId": "ceba77a2-0fee-4367-9569-d227686b703d"
      },
      "execution_count": 3,
      "outputs": [
        {
          "output_type": "stream",
          "name": "stdout",
          "text": [
            "Hello\n",
            "--------\n",
            "HELLO\n"
          ]
        }
      ]
    },
    {
      "cell_type": "code",
      "source": [
        "# Q7 writing a while-loop program that takes an integer input and conbverts it to a float\n",
        "seq = 0\n",
        "while seq == 0:\n",
        "  try:\n",
        "    my_float = float(input(\"Enter a number: \"))\n",
        "    seq += 1\n",
        "  except ValueError:\n",
        "    print(\"Invalid input. Please enter a number.\")\n",
        "print(f\"This is my floating-point variable: {my_float}\")"
      ],
      "metadata": {
        "colab": {
          "base_uri": "https://localhost:8080/"
        },
        "id": "l1bu-p2c7s_C",
        "outputId": "079b253f-ce97-42ab-a0c8-2e2f7113a6c3"
      },
      "execution_count": null,
      "outputs": [
        {
          "output_type": "stream",
          "name": "stdout",
          "text": [
            "Enter a number: f\n",
            "Invalid input. Please enter a number.\n",
            "Enter a number: h\n",
            "Invalid input. Please enter a number.\n",
            "Enter a number: 1\n",
            "This is my floating-point variable: 1.0\n"
          ]
        }
      ]
    },
    {
      "cell_type": "code",
      "source": [
        "# Q8 Sorting a list of numbers in ascending order\n",
        "my_list = [4,4,35,357,76,3,4,3,3,2345,0,-54,2]\n",
        "my_list.sort()\n",
        "print(my_list)\n",
        "\n",
        "'''\n",
        "Lists are mutable thus when you make a change you are\n",
        "modifying the original memory space and not recreating the dataspace as you might\n",
        "with an integer type.\n",
        "'''"
      ],
      "metadata": {
        "colab": {
          "base_uri": "https://localhost:8080/"
        },
        "id": "1pkuzzo27tF_",
        "outputId": "7a49c26c-cf45-424c-a8a4-a47a814054d9"
      },
      "execution_count": null,
      "outputs": [
        {
          "output_type": "stream",
          "name": "stdout",
          "text": [
            "[-54, 0, 2, 3, 3, 3, 4, 4, 4, 35, 76, 357, 2345]\n"
          ]
        }
      ]
    },
    {
      "cell_type": "code",
      "source": [
        "# b. Reverse my new list\n",
        "my_new_list = my_list.copy()\n",
        "my_new_list.sort(reverse=True)\n",
        "print(my_new_list)"
      ],
      "metadata": {
        "colab": {
          "base_uri": "https://localhost:8080/"
        },
        "id": "WprNZA1RA2IA",
        "outputId": "4089ef67-01e2-44ee-92bb-e9652a479575"
      },
      "execution_count": null,
      "outputs": [
        {
          "output_type": "stream",
          "name": "stdout",
          "text": [
            "[2345, 357, 76, 35, 4, 4, 4, 3, 3, 3, 2, 0, -54]\n"
          ]
        }
      ]
    }
  ]
}